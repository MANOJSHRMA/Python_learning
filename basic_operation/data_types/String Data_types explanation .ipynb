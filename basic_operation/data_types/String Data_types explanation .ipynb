{
 "cells": [
  {
   "cell_type": "markdown",
   "metadata": {},
   "source": [
    "## declare a string and calculate its length"
   ]
  },
  {
   "cell_type": "code",
   "execution_count": 1,
   "metadata": {},
   "outputs": [
    {
     "name": "stdout",
     "output_type": "stream",
     "text": [
      "length of name is : 12\n"
     ]
    }
   ],
   "source": [
    "name = \"Manoj_sharma\"\n",
    "# assign any value to a varibale usinng = and declare comment with hashtag #\n",
    "# calculate length of name varibale uisng len function\n",
    "print(\"length of name is :\",len(name))"
   ]
  },
  {
   "cell_type": "markdown",
   "metadata": {},
   "source": [
    "## covert string case using built in functions"
   ]
  },
  {
   "cell_type": "code",
   "execution_count": 2,
   "metadata": {},
   "outputs": [
    {
     "name": "stdout",
     "output_type": "stream",
     "text": [
      "Lower case : manoj_sharma\n",
      "Upper case : MANOJ_SHARMA\n",
      "Title case : New Delhi\n"
     ]
    }
   ],
   "source": [
    "# lower function is use to convert name in lower case \n",
    "print(\"Lower case :\",name.lower())\n",
    "#upper function is use to convert name in upper case \n",
    "print(\"Upper case :\",name.upper())\n",
    "\n",
    "india_capital = \"new delhi\"\n",
    "print('Title case :', india_capital.title())"
   ]
  },
  {
   "cell_type": "markdown",
   "metadata": {},
   "source": [
    "## use strip, lstrip, rstio for removing unwated leading and trailling spaces"
   ]
  },
  {
   "cell_type": "code",
   "execution_count": 3,
   "metadata": {},
   "outputs": [
    {
     "name": "stdout",
     "output_type": "stream",
     "text": [
      "Total length with spaces : 18\n",
      "Total lenght without left spaces : 16\n",
      "Total lenght without right spaces : 14\n",
      "Total lenght without both right and left spaces : 12\n"
     ]
    }
   ],
   "source": [
    "name_with_spaces = \"  manoj shrama    \" \n",
    "print(\"Total length with spaces :\",len(name_with_spaces))\n",
    "#use strip function to remove spaces from a string\n",
    "\n",
    "only_left_spaces = name_with_spaces.lstrip()\n",
    "print(\"Total lenght without left spaces :\",len(only_left_spaces))\n",
    "# as you can see it removed 2 spaces from left side \n",
    "\n",
    "only_right_spaces_rm = name_with_spaces.rstrip()\n",
    "print(\"Total lenght without right spaces :\",len(only_right_spaces_rm))\n",
    "# as you can see it removed 4 spaces from right side \n",
    "\n",
    "\n",
    "# we can use strip function to remove spacing from both sides\n",
    "remove_all_spaces = name_with_spaces.strip()\n",
    "print(\"Total lenght without both right and left spaces :\",len(remove_all_spaces))\n",
    "# as u can see it removed spaced form right as well as from left side"
   ]
  },
  {
   "cell_type": "markdown",
   "metadata": {},
   "source": [
    "## check type"
   ]
  },
  {
   "cell_type": "code",
   "execution_count": 4,
   "metadata": {},
   "outputs": [
    {
     "name": "stdout",
     "output_type": "stream",
     "text": [
      "type of temp_string is : <class 'str'>\n"
     ]
    }
   ],
   "source": [
    "temp_string  = \"quick brown fox jumps over lazzy dog\"\n",
    "# In python we use type function to check datatype of a object\n",
    "print(\"type of temp_string is :\",type(temp_string))"
   ]
  },
  {
   "cell_type": "markdown",
   "metadata": {},
   "source": [
    "## split text "
   ]
  },
  {
   "cell_type": "code",
   "execution_count": 5,
   "metadata": {},
   "outputs": [
    {
     "name": "stdout",
     "output_type": "stream",
     "text": [
      "['quick', 'brown', 'fox', 'jumps', 'over', 'lazzy', 'dog']\n",
      "data type of splited data is : <class 'list'>\n"
     ]
    }
   ],
   "source": [
    "# like here i am gonna split temp_data \n",
    "\n",
    "splited_data = temp_string.split(' ')\n",
    "print(splited_data)\n",
    "print(\"data type of splited data is :\", type(splited_data))\n",
    "# imp note ==> when we split a string it return us list data type\n"
   ]
  },
  {
   "cell_type": "code",
   "execution_count": null,
   "metadata": {},
   "outputs": [],
   "source": []
  },
  {
   "cell_type": "code",
   "execution_count": null,
   "metadata": {},
   "outputs": [],
   "source": []
  },
  {
   "cell_type": "code",
   "execution_count": null,
   "metadata": {},
   "outputs": [],
   "source": []
  }
 ],
 "metadata": {
  "kernelspec": {
   "display_name": "Python 3",
   "language": "python",
   "name": "python3"
  },
  "language_info": {
   "codemirror_mode": {
    "name": "ipython",
    "version": 3
   },
   "file_extension": ".py",
   "mimetype": "text/x-python",
   "name": "python",
   "nbconvert_exporter": "python",
   "pygments_lexer": "ipython3",
   "version": "3.6.8"
  }
 },
 "nbformat": 4,
 "nbformat_minor": 2
}
